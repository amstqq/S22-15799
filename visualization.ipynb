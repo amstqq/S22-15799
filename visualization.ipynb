{
 "cells": [
  {
   "cell_type": "code",
   "execution_count": 17,
   "metadata": {},
   "outputs": [],
   "source": [
    "import copy\n",
    "import json\n",
    "import logging\n",
    "import pickle\n",
    "import time\n",
    "import os\n",
    "\n",
    "import pandas as pd\n",
    "import numpy as np\n",
    "import matplotlib.pyplot as plt"
   ]
  },
  {
   "cell_type": "code",
   "execution_count": 18,
   "metadata": {},
   "outputs": [],
   "source": [
    "def load_most_indexes(filename):\n",
    "        save_dir = os.path.join(os.getcwd(), f\"indexes_results/{filename}\")\n",
    "        with open(os.path.join(save_dir, save_dir), \"rb\") as file:\n",
    "            indexes = list(pickle.load(file))\n",
    "\n",
    "        return indexes"
   ]
  },
  {
   "cell_type": "code",
   "execution_count": 20,
   "metadata": {},
   "outputs": [
    {
     "data": {
      "text/plain": [
       "['relaxation',\n",
       " 10,\n",
       " 121115.73000000475,\n",
       " [I(C review.u_id,C review.rating),\n",
       "  I(C review.i_id,C review.creation_date),\n",
       "  I(C item.i_id),\n",
       "  I(C trust.target_u_id,C trust.source_u_id),\n",
       "  I(C useracct.u_id),\n",
       "  I(C trust.source_u_id,C trust.target_u_id),\n",
       "  I(C useracct.u_id,C useracct.name),\n",
       "  I(C review.i_id,C review.rating),\n",
       "  I(C trust.source_u_id),\n",
       "  I(C item.i_id,C item.title),\n",
       "  I(C review.u_id,C review.creation_date),\n",
       "  I(C review.i_id,C review.u_id),\n",
       "  I(C review.i_id),\n",
       "  I(C review.rating,C review.creation_date)],\n",
       " 17.01,\n",
       " 3684.1292939500872]"
      ]
     },
     "execution_count": 20,
     "metadata": {},
     "output_type": "execute_result"
    }
   ],
   "source": [
    "indexes = load_most_indexes(\"epinions.pickle\")\n",
    "indexes = [[a, b[\"max_indexes\"], c, d, e, f] for a, b, c, d, e, f in indexes]\n",
    "indexes[0]"
   ]
  },
  {
   "cell_type": "code",
   "execution_count": 10,
   "metadata": {},
   "outputs": [
    {
     "data": {
      "text/html": [
       "<div>\n",
       "<style scoped>\n",
       "    .dataframe tbody tr th:only-of-type {\n",
       "        vertical-align: middle;\n",
       "    }\n",
       "\n",
       "    .dataframe tbody tr th {\n",
       "        vertical-align: top;\n",
       "    }\n",
       "\n",
       "    .dataframe thead th {\n",
       "        text-align: right;\n",
       "    }\n",
       "</style>\n",
       "<table border=\"1\" class=\"dataframe\">\n",
       "  <thead>\n",
       "    <tr style=\"text-align: right;\">\n",
       "      <th></th>\n",
       "      <th>algo_name</th>\n",
       "      <th>params</th>\n",
       "      <th>cost</th>\n",
       "      <th>indexes</th>\n",
       "      <th>calc_time</th>\n",
       "      <th>goodput</th>\n",
       "    </tr>\n",
       "  </thead>\n",
       "  <tbody>\n",
       "    <tr>\n",
       "      <th>0</th>\n",
       "      <td>drop</td>\n",
       "      <td>4</td>\n",
       "      <td>1.675079e+07</td>\n",
       "      <td>{I(C observations.created_time), I(C observati...</td>\n",
       "      <td>1561.302901</td>\n",
       "      <td>-1</td>\n",
       "    </tr>\n",
       "    <tr>\n",
       "      <th>1</th>\n",
       "      <td>drop</td>\n",
       "      <td>7</td>\n",
       "      <td>1.671888e+06</td>\n",
       "      <td>{I(C observations.created_time), I(C observati...</td>\n",
       "      <td>1561.302901</td>\n",
       "      <td>-1</td>\n",
       "    </tr>\n",
       "    <tr>\n",
       "      <th>2</th>\n",
       "      <td>drop</td>\n",
       "      <td>10</td>\n",
       "      <td>1.679367e+06</td>\n",
       "      <td>{I(C observations.created_time), I(C observati...</td>\n",
       "      <td>1.950000</td>\n",
       "      <td>-1</td>\n",
       "    </tr>\n",
       "  </tbody>\n",
       "</table>\n",
       "</div>"
      ],
      "text/plain": [
       "  algo_name  params          cost  \\\n",
       "0      drop       4  1.675079e+07   \n",
       "1      drop       7  1.671888e+06   \n",
       "2      drop      10  1.679367e+06   \n",
       "\n",
       "                                             indexes    calc_time  goodput  \n",
       "0  {I(C observations.created_time), I(C observati...  1561.302901       -1  \n",
       "1  {I(C observations.created_time), I(C observati...  1561.302901       -1  \n",
       "2  {I(C observations.created_time), I(C observati...     1.950000       -1  "
      ]
     },
     "execution_count": 10,
     "metadata": {},
     "output_type": "execute_result"
    }
   ],
   "source": [
    "df = pd.DataFrame(indexes, columns=[\"algo_name\", \"params\", \"cost\", \"indexes\", \"calc_time\", \"goodput\"])\n",
    "df.head()"
   ]
  },
  {
   "cell_type": "code",
   "execution_count": 16,
   "metadata": {},
   "outputs": [
    {
     "data": {
      "text/plain": [
       "algo_name\n",
       "drop    AxesSubplot(0.125,0.125;0.775x0.755)\n",
       "dtype: object"
      ]
     },
     "execution_count": 16,
     "metadata": {},
     "output_type": "execute_result"
    },
    {
     "data": {
      "image/png": "[encoded data removed]",
      "text/plain": [
       "<Figure size 432x288 with 1 Axes>"
      ]
     },
     "metadata": {
      "needs_background": "light"
     },
     "output_type": "display_data"
    }
   ],
   "source": [
    "df.groupby(\"algo_name\").plot(x=\"params\", y=[\"cost\", \"calc_time\"])"
   ]
  },
  {
   "cell_type": "code",
   "execution_count": null,
   "metadata": {},
   "outputs": [],
   "source": []
  }
 ],
 "metadata": {
  "interpreter": {
   "hash": "8d4f39e0e8945dc85ebf8adbc1053c185ae86818447b4d946a2f79d15397e919"
  },
  "kernelspec": {
   "display_name": "Python 3.7.11 ('db')",
   "language": "python",
   "name": "python3"
  },
  "language_info": {
   "codemirror_mode": {
    "name": "ipython",
    "version": 3
   },
   "file_extension": ".py",
   "mimetype": "text/x-python",
   "name": "python",
   "nbconvert_exporter": "python",
   "pygments_lexer": "ipython3",
   "version": "3.7.11"
  },
  "orig_nbformat": 4
 },
 "nbformat": 4,
 "nbformat_minor": 2
}
