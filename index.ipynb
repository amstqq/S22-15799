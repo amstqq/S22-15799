{
 "cells": [
  {
   "cell_type": "code",
   "execution_count": 1,
   "metadata": {},
   "outputs": [],
   "source": [
    "import pandas as pd\n",
    "from sql_metadata import Parser\n",
    "from collections import defaultdict\n",
    "\n",
    "pd.set_option('display.max_colwidth', None)"
   ]
  },
  {
   "cell_type": "code",
   "execution_count": 13,
   "metadata": {},
   "outputs": [
    {
     "name": "stdout",
     "output_type": "stream",
     "text": [
      "postgresql-2022-02-10_211004.csv postgresql-2022-02-10_211004.log\n"
     ]
    }
   ],
   "source": [
    "!ls /usr/local/var/postgres/log"
   ]
  },
  {
   "cell_type": "code",
   "execution_count": 30,
   "metadata": {},
   "outputs": [
    {
     "data": {
      "text/html": [
       "<div>\n",
       "<style scoped>\n",
       "    .dataframe tbody tr th:only-of-type {\n",
       "        vertical-align: middle;\n",
       "    }\n",
       "\n",
       "    .dataframe tbody tr th {\n",
       "        vertical-align: top;\n",
       "    }\n",
       "\n",
       "    .dataframe thead th {\n",
       "        text-align: right;\n",
       "    }\n",
       "</style>\n",
       "<table border=\"1\" class=\"dataframe\">\n",
       "  <thead>\n",
       "    <tr style=\"text-align: right;\">\n",
       "      <th></th>\n",
       "      <th>query_type</th>\n",
       "      <th>query_text</th>\n",
       "    </tr>\n",
       "  </thead>\n",
       "  <tbody>\n",
       "    <tr>\n",
       "      <th>70</th>\n",
       "      <td>COMMIT</td>\n",
       "      <td>execute S_1: COMMIT</td>\n",
       "    </tr>\n",
       "    <tr>\n",
       "      <th>71</th>\n",
       "      <td>BEGIN</td>\n",
       "      <td>execute &lt;unnamed&gt;: BEGIN</td>\n",
       "    </tr>\n",
       "    <tr>\n",
       "      <th>72</th>\n",
       "      <td>UPDATE</td>\n",
       "      <td>execute &lt;unnamed&gt;: UPDATE review SET rating = $1 WHERE i_id=$2 AND u_id=$3</td>\n",
       "    </tr>\n",
       "    <tr>\n",
       "      <th>73</th>\n",
       "      <td>COMMIT</td>\n",
       "      <td>execute S_1: COMMIT</td>\n",
       "    </tr>\n",
       "    <tr>\n",
       "      <th>74</th>\n",
       "      <td>BEGIN</td>\n",
       "      <td>execute &lt;unnamed&gt;: BEGIN</td>\n",
       "    </tr>\n",
       "    <tr>\n",
       "      <th>75</th>\n",
       "      <td>UPDATE</td>\n",
       "      <td>execute &lt;unnamed&gt;: UPDATE trust SET trust = $1 WHERE source_u_id=$2 AND target_u_id=$3</td>\n",
       "    </tr>\n",
       "    <tr>\n",
       "      <th>76</th>\n",
       "      <td>COMMIT</td>\n",
       "      <td>execute S_1: COMMIT</td>\n",
       "    </tr>\n",
       "    <tr>\n",
       "      <th>77</th>\n",
       "      <td>BEGIN</td>\n",
       "      <td>execute &lt;unnamed&gt;: BEGIN</td>\n",
       "    </tr>\n",
       "    <tr>\n",
       "      <th>78</th>\n",
       "      <td>UPDATE</td>\n",
       "      <td>execute &lt;unnamed&gt;: UPDATE item SET title = $1 WHERE i_id=$2</td>\n",
       "    </tr>\n",
       "    <tr>\n",
       "      <th>79</th>\n",
       "      <td>COMMIT</td>\n",
       "      <td>execute S_1: COMMIT</td>\n",
       "    </tr>\n",
       "  </tbody>\n",
       "</table>\n",
       "</div>"
      ],
      "text/plain": [
       "   query_type  \\\n",
       "70     COMMIT   \n",
       "71      BEGIN   \n",
       "72     UPDATE   \n",
       "73     COMMIT   \n",
       "74      BEGIN   \n",
       "75     UPDATE   \n",
       "76     COMMIT   \n",
       "77      BEGIN   \n",
       "78     UPDATE   \n",
       "79     COMMIT   \n",
       "\n",
       "                                                                                query_text  \n",
       "70                                                                     execute S_1: COMMIT  \n",
       "71                                                                execute <unnamed>: BEGIN  \n",
       "72              execute <unnamed>: UPDATE review SET rating = $1 WHERE i_id=$2 AND u_id=$3  \n",
       "73                                                                     execute S_1: COMMIT  \n",
       "74                                                                execute <unnamed>: BEGIN  \n",
       "75  execute <unnamed>: UPDATE trust SET trust = $1 WHERE source_u_id=$2 AND target_u_id=$3  \n",
       "76                                                                     execute S_1: COMMIT  \n",
       "77                                                                execute <unnamed>: BEGIN  \n",
       "78                             execute <unnamed>: UPDATE item SET title = $1 WHERE i_id=$2  \n",
       "79                                                                     execute S_1: COMMIT  "
      ]
     },
     "execution_count": 30,
     "metadata": {},
     "output_type": "execute_result"
    }
   ],
   "source": [
    "LOG_DIRECTORY = 'epinions_workload.csv'\n",
    "df = pd.read_csv(LOG_DIRECTORY, header=None, usecols=[7, 13], names=[\"query_type\", \"query_text\"])\n",
    "df.iloc[70:80]"
   ]
  },
  {
   "cell_type": "code",
   "execution_count": 16,
   "metadata": {},
   "outputs": [],
   "source": [
    "table_to_columns_epinions = {\n",
    "  \"item\": set([\"i_id\", \"title\"]),\n",
    "  \"useracct\": set([\"u_id\", \"name\"]),\n",
    "  \"review\": set([\"a_id\", \"u_id\", \"i_id\", \"rating\", \"rank\"]),\n",
    "  \"trust\": set([\"source_u_id\", \"target_u_id\", \"trust\", \"creation_date\"]),\n",
    "  \"review_rating\": set([\"u_id\", \"a_id\", \"rating\", \"status\", \"creation_date\", \"last_mod_date\", \"type\", \"vertical_id\"])\n",
    "}"
   ]
  },
  {
   "cell_type": "code",
   "execution_count": 28,
   "metadata": {},
   "outputs": [],
   "source": [
    "qs = set()\n",
    "def parse_query(query_str : str, ttc_mapping : dict):\n",
    "  \n",
    "  if \"pg_\" in query_str:\n",
    "    return None\n",
    "\n",
    "  query_str = query_str[query_str.find(':')+1:] # Remove \"execute <unamed>:\"\n",
    "\n",
    "  # Ignore non-relevant queries\n",
    "  if \"BEGIN\" in query_str or \"COMMIT\" in query_str:\n",
    "    return None\n",
    "\n",
    "  try:\n",
    "    p = Parser(query_str)\n",
    "    tables = p.tables\n",
    "    columns = p.columns\n",
    "  except:\n",
    "    return None\n",
    "\n",
    "  # Skip queries that dont have a where clause\n",
    "  if len(tables) == 0 or len(columns) == 0:\n",
    "    return None\n",
    "\n",
    "  # Build string \"table.column_name\" for each column\n",
    "  added = False\n",
    "  for column in columns:\n",
    "    if \".\" in column:\n",
    "      added = True\n",
    "    else:\n",
    "      # Find which table this column corresponds to\n",
    "      for table in tables:\n",
    "        if column in ttc_mapping[table]:\n",
    "          added = True\n",
    "          break\n",
    "  \n",
    "  if not added:\n",
    "    # print(\"Invalid Query:\", query_str)\n",
    "    return None\n",
    "  return query_str"
   ]
  },
  {
   "cell_type": "code",
   "execution_count": 29,
   "metadata": {},
   "outputs": [
    {
     "name": "stderr",
     "output_type": "stream",
     "text": [
      "Not supported query type:  SET extra_float_digits = 3\n",
      "Not supported query type:  SET application_name = 'PostgreSQL JDBC Driver'\n",
      "Not supported query type:  SET extra_float_digits = 3\n",
      "Not supported query type:  SET application_name = 'PostgreSQL JDBC Driver'\n",
      "Not supported query type:  SET extra_float_digits = 3\n",
      "Not supported query type:  SET application_name = 'PostgreSQL JDBC Driver'\n",
      "Not supported query type:  SET SESSION CHARACTERISTICS AS TRANSACTION ISOLATION LEVEL SERIALIZABLE\n",
      "Not supported query type:  SET extra_float_digits = 3\n",
      "Not supported query type:  SET application_name = 'PostgreSQL JDBC Driver'\n",
      "Not supported query type:  SHOW ALL\n",
      "Not supported query type:  ALTER SYSTEM SET log_destination='stderr'\n",
      "Not supported query type:  ALTER SYSTEM SET logging_collector='off'\n",
      "Not supported query type:  ALTER SYSTEM SET log_statement='none'\n"
     ]
    },
    {
     "data": {
      "text/plain": [
       "{' SELECT * FROM review r WHERE r.i_id=$1 ORDER BY creation_date DESC',\n",
       " ' SELECT * FROM review r, item i WHERE i.i_id = r.i_id and r.i_id=$1 ORDER BY rating DESC, r.creation_date DESC LIMIT 10',\n",
       " ' SELECT * FROM review r, useracct u WHERE u.u_id = r.u_id AND r.u_id=$1 ORDER BY rating DESC, r.creation_date DESC LIMIT 10',\n",
       " ' SELECT * FROM trust t WHERE t.source_u_id=$1',\n",
       " ' SELECT avg(rating) FROM review r WHERE r.i_id=$1',\n",
       " ' SELECT avg(rating) FROM review r, trust t WHERE r.u_id=t.target_u_id AND r.i_id=$1 AND t.source_u_id=$2',\n",
       " ' SELECT i_id FROM item',\n",
       " ' SELECT u_id FROM useracct',\n",
       " ' UPDATE item SET title = $1 WHERE i_id=$2',\n",
       " ' UPDATE review SET rating = $1 WHERE i_id=$2 AND u_id=$3',\n",
       " ' UPDATE trust SET trust = $1 WHERE source_u_id=$2 AND target_u_id=$3',\n",
       " ' UPDATE useracct SET name = $1 WHERE u_id=$2'}"
      ]
     },
     "execution_count": 29,
     "metadata": {},
     "output_type": "execute_result"
    }
   ],
   "source": [
    "queries = []\n",
    "for index, row in df.iterrows():\n",
    "  if pd.isna(row[\"query_type\"]):\n",
    "    continue\n",
    "  q = parse_query(row[\"query_text\"], table_to_columns_epinions)\n",
    "  if q is not None:\n",
    "    queries.append(q)\n",
    "\n",
    "set(queries)\n"
   ]
  },
  {
   "cell_type": "code",
   "execution_count": 22,
   "metadata": {},
   "outputs": [],
   "source": [
    "def build_actions_str(indexes : list, filename : str) -> list:\n",
    "  cmds = [f'echo \"Generating sql commands for {filename}\"']\n",
    "  for i, index in enumerate(indexes):\n",
    "    table, column = index.split(\".\")\n",
    "    if i == 0:\n",
    "      cmd = f'echo \"CREATE INDEX idx_{table}_{column} ON {table}({column});\" > {filename}'\n",
    "    else:\n",
    "      cmd = f'echo \"CREATE INDEX idx_{table}_{column} ON {table}({column});\" >> {filename}'\n",
    "    cmds.append(cmd)\n",
    "\n",
    "  return cmds\n",
    "\n",
    "\n",
    "def build_drop_idx_cmd(indexes : list) -> str:\n",
    "  drop_cmd = \"DROP INDEX\"\n",
    "  for i, index in enumerate(indexes):\n",
    "    table, column = index.split(\".\")\n",
    "    if i != len(indexes)-1:\n",
    "      drop_cmd += f\" idx_{table}_{column},\"\n",
    "    else:\n",
    "      drop_cmd += f\" idx_{table}_{column};\"\n",
    "\n",
    "  return drop_cmd\n",
    "\n",
    "\n",
    "\n",
    "  \n",
    "  \n",
    "      \n"
   ]
  },
  {
   "cell_type": "code",
   "execution_count": null,
   "metadata": {},
   "outputs": [],
   "source": []
  }
 ],
 "metadata": {
  "kernelspec": {
   "display_name": "Python 3",
   "language": "python",
   "name": "python3"
  },
  "language_info": {
   "codemirror_mode": {
    "name": "ipython",
    "version": 3
   },
   "file_extension": ".py",
   "mimetype": "text/x-python",
   "name": "python",
   "nbconvert_exporter": "python",
   "pygments_lexer": "ipython3",
   "version": "3.7.11"
  }
 },
 "nbformat": 4,
 "nbformat_minor": 4
}
