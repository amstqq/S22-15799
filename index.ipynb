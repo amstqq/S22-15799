{
 "cells": [
  {
   "cell_type": "code",
   "execution_count": 1,
   "metadata": {},
   "outputs": [
    {
     "name": "stdout",
     "output_type": "stream",
     "text": [
      "index.ipynb    tpcc-index.csv\n"
     ]
    }
   ],
   "source": [
    "!ls"
   ]
  },
  {
   "cell_type": "code",
   "execution_count": 2,
   "metadata": {},
   "outputs": [],
   "source": [
    "import pandas as pd\n",
    "\n",
    "pd.set_option('display.max_colwidth', None)"
   ]
  },
  {
   "cell_type": "code",
   "execution_count": 3,
   "metadata": {},
   "outputs": [],
   "source": [
    "TPCC_INDEX_PATH = 'tpcc-index.csv'"
   ]
  },
  {
   "cell_type": "markdown",
   "metadata": {},
   "source": [
    "<img src=\"https://raw.githubusercontent.com/wiki/cmu-db/benchbase/img/tpcc.png\" width=\"500\" />"
   ]
  },
  {
   "cell_type": "code",
   "execution_count": 4,
   "metadata": {},
   "outputs": [
    {
     "data": {
      "text/html": [
       "<div>\n",
       "<style scoped>\n",
       "    .dataframe tbody tr th:only-of-type {\n",
       "        vertical-align: middle;\n",
       "    }\n",
       "\n",
       "    .dataframe tbody tr th {\n",
       "        vertical-align: top;\n",
       "    }\n",
       "\n",
       "    .dataframe thead th {\n",
       "        text-align: right;\n",
       "    }\n",
       "</style>\n",
       "<table border=\"1\" class=\"dataframe\">\n",
       "  <thead>\n",
       "    <tr style=\"text-align: right;\">\n",
       "      <th></th>\n",
       "      <th>indexname</th>\n",
       "      <th>indexdef</th>\n",
       "    </tr>\n",
       "  </thead>\n",
       "  <tbody>\n",
       "    <tr>\n",
       "      <th>0</th>\n",
       "      <td>warehouse_pkey</td>\n",
       "      <td>CREATE UNIQUE INDEX warehouse_pkey ON public.warehouse USING btree (w_id)</td>\n",
       "    </tr>\n",
       "    <tr>\n",
       "      <th>1</th>\n",
       "      <td>item_pkey</td>\n",
       "      <td>CREATE UNIQUE INDEX item_pkey ON public.item USING btree (i_id)</td>\n",
       "    </tr>\n",
       "    <tr>\n",
       "      <th>2</th>\n",
       "      <td>stock_pkey</td>\n",
       "      <td>CREATE UNIQUE INDEX stock_pkey ON public.stock USING btree (s_w_id, s_i_id)</td>\n",
       "    </tr>\n",
       "    <tr>\n",
       "      <th>3</th>\n",
       "      <td>district_pkey</td>\n",
       "      <td>CREATE UNIQUE INDEX district_pkey ON public.district USING btree (d_w_id, d_id)</td>\n",
       "    </tr>\n",
       "    <tr>\n",
       "      <th>4</th>\n",
       "      <td>customer_pkey</td>\n",
       "      <td>CREATE UNIQUE INDEX customer_pkey ON public.customer USING btree (c_w_id, c_d_id, c_id)</td>\n",
       "    </tr>\n",
       "    <tr>\n",
       "      <th>5</th>\n",
       "      <td>oorder_pkey</td>\n",
       "      <td>CREATE UNIQUE INDEX oorder_pkey ON public.oorder USING btree (o_w_id, o_d_id, o_id)</td>\n",
       "    </tr>\n",
       "    <tr>\n",
       "      <th>6</th>\n",
       "      <td>oorder_o_w_id_o_d_id_o_c_id_o_id_key</td>\n",
       "      <td>CREATE UNIQUE INDEX oorder_o_w_id_o_d_id_o_c_id_o_id_key ON public.oorder USING btree (o_w_id, o_d_id, o_c_id, o_id)</td>\n",
       "    </tr>\n",
       "    <tr>\n",
       "      <th>7</th>\n",
       "      <td>new_order_pkey</td>\n",
       "      <td>CREATE UNIQUE INDEX new_order_pkey ON public.new_order USING btree (no_w_id, no_d_id, no_o_id)</td>\n",
       "    </tr>\n",
       "    <tr>\n",
       "      <th>8</th>\n",
       "      <td>order_line_pkey</td>\n",
       "      <td>CREATE UNIQUE INDEX order_line_pkey ON public.order_line USING btree (ol_w_id, ol_d_id, ol_o_id, ol_number)</td>\n",
       "    </tr>\n",
       "    <tr>\n",
       "      <th>9</th>\n",
       "      <td>idx_customer_name</td>\n",
       "      <td>CREATE INDEX idx_customer_name ON public.customer USING btree (c_w_id, c_d_id, c_last, c_first)</td>\n",
       "    </tr>\n",
       "    <tr>\n",
       "      <th>10</th>\n",
       "      <td>idx_order</td>\n",
       "      <td>CREATE INDEX idx_order ON public.oorder USING btree (o_w_id, o_d_id, o_c_id, o_id)</td>\n",
       "    </tr>\n",
       "  </tbody>\n",
       "</table>\n",
       "</div>"
      ],
      "text/plain": [
       "                               indexname  \\\n",
       "0                         warehouse_pkey   \n",
       "1                              item_pkey   \n",
       "2                             stock_pkey   \n",
       "3                          district_pkey   \n",
       "4                          customer_pkey   \n",
       "5                            oorder_pkey   \n",
       "6   oorder_o_w_id_o_d_id_o_c_id_o_id_key   \n",
       "7                         new_order_pkey   \n",
       "8                        order_line_pkey   \n",
       "9                      idx_customer_name   \n",
       "10                             idx_order   \n",
       "\n",
       "                                                                                                                indexdef  \n",
       "0                                              CREATE UNIQUE INDEX warehouse_pkey ON public.warehouse USING btree (w_id)  \n",
       "1                                                        CREATE UNIQUE INDEX item_pkey ON public.item USING btree (i_id)  \n",
       "2                                            CREATE UNIQUE INDEX stock_pkey ON public.stock USING btree (s_w_id, s_i_id)  \n",
       "3                                        CREATE UNIQUE INDEX district_pkey ON public.district USING btree (d_w_id, d_id)  \n",
       "4                                CREATE UNIQUE INDEX customer_pkey ON public.customer USING btree (c_w_id, c_d_id, c_id)  \n",
       "5                                    CREATE UNIQUE INDEX oorder_pkey ON public.oorder USING btree (o_w_id, o_d_id, o_id)  \n",
       "6   CREATE UNIQUE INDEX oorder_o_w_id_o_d_id_o_c_id_o_id_key ON public.oorder USING btree (o_w_id, o_d_id, o_c_id, o_id)  \n",
       "7                         CREATE UNIQUE INDEX new_order_pkey ON public.new_order USING btree (no_w_id, no_d_id, no_o_id)  \n",
       "8            CREATE UNIQUE INDEX order_line_pkey ON public.order_line USING btree (ol_w_id, ol_d_id, ol_o_id, ol_number)  \n",
       "9                        CREATE INDEX idx_customer_name ON public.customer USING btree (c_w_id, c_d_id, c_last, c_first)  \n",
       "10                                    CREATE INDEX idx_order ON public.oorder USING btree (o_w_id, o_d_id, o_c_id, o_id)  "
      ]
     },
     "execution_count": 4,
     "metadata": {},
     "output_type": "execute_result"
    }
   ],
   "source": [
    "tpcc_index_df = pd.read_csv(TPCC_INDEX_PATH)\n",
    "tpcc_index_df[['indexname', 'indexdef']]"
   ]
  },
  {
   "cell_type": "code",
   "execution_count": null,
   "metadata": {},
   "outputs": [],
   "source": []
  }
 ],
 "metadata": {
  "kernelspec": {
   "display_name": "Python 3",
   "language": "python",
   "name": "python3"
  },
  "language_info": {
   "codemirror_mode": {
    "name": "ipython",
    "version": 3
   },
   "file_extension": ".py",
   "mimetype": "text/x-python",
   "name": "python",
   "nbconvert_exporter": "python",
   "pygments_lexer": "ipython3",
   "version": "3.8.3"
  }
 },
 "nbformat": 4,
 "nbformat_minor": 4
}
