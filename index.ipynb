{
 "cells": [
  {
   "cell_type": "code",
   "execution_count": 1,
   "metadata": {},
   "outputs": [],
   "source": [
    "import pandas as pd\n",
    "from sql_metadata import Parser\n",
    "from collections import defaultdict\n",
    "\n",
    "pd.set_option('display.max_colwidth', None)"
   ]
  },
  {
   "cell_type": "code",
   "execution_count": 2,
   "metadata": {},
   "outputs": [
    {
     "name": "stdout",
     "output_type": "stream",
     "text": [
      "postgresql-2022-02-10_211004.csv postgresql-2022-02-10_211004.log\n"
     ]
    }
   ],
   "source": [
    "!ls /usr/local/var/postgres/log"
   ]
  },
  {
   "cell_type": "code",
   "execution_count": 3,
   "metadata": {},
   "outputs": [],
   "source": [
    "LOG_DIRECTORY = '/usr/local/var/postgres/log/postgresql-2022-02-10_211004.csv'\n",
    "df = pd.read_csv(LOG_DIRECTORY, header=None).iloc[33:1910, 13]"
   ]
  },
  {
   "cell_type": "code",
   "execution_count": 4,
   "metadata": {},
   "outputs": [],
   "source": [
    "table_to_columns_epinions = {\n",
    "  \"item\": set([\"i_id\", \"title\"]),\n",
    "  \"useracct\": set([\"u_id\", \"name\"]),\n",
    "  \"review\": set([\"a_id\", \"u_id\", \"i_id\", \"rating\", \"rank\"]),\n",
    "  \"trust\": set([\"source_u_id\", \"target_u_id\", \"trust\", \"creation_date\"]),\n",
    "  \"review_rating\": set([\"u_id\", \"a_id\", \"rating\", \"status\", \"creation_date\", \"last_mod_date\", \"type\", \"vertical_id\"])\n",
    "}"
   ]
  },
  {
   "cell_type": "code",
   "execution_count": 10,
   "metadata": {},
   "outputs": [],
   "source": [
    "def parse_query(query_str : str, ttc_mapping : dict, column_count : dict) -> None:\n",
    "  query_str = query_str[query_str.find(':')+1:] # Remove \"execute <unamed>:\"\n",
    "\n",
    "  # Ignore non-relevant queries\n",
    "  if \"BEGIN\" in query_str or \"COMMIT\" in query_str:\n",
    "    return\n",
    "\n",
    "  try:\n",
    "    p = Parser(query_str)\n",
    "    tables = p.tables\n",
    "    columns = p.columns\n",
    "  except:\n",
    "    print(\"Invalid Query:\", query_str)\n",
    "    return\n",
    "\n",
    "  # Build string \"table.column_name\" for each column\n",
    "  added = False\n",
    "  for column in columns:\n",
    "    if \".\" in column:\n",
    "      added = True\n",
    "      column_count[column] += 1\n",
    "    else:\n",
    "      # Find which table this column corresponds to\n",
    "      for table in tables:\n",
    "        if column in ttc_mapping[table]:\n",
    "          added = True\n",
    "          column_count[f\"{table}.{column}\"] += 1\n",
    "          break\n",
    "  \n",
    "  if not added:\n",
    "    print(\"Invalid Query:\", query_str)\n",
    "\n",
    "\n",
    "def build_actions_str(indexes : list, filename : str) -> list:\n",
    "  cmds = [f'echo \"Generating sql commands for {filename}\"']\n",
    "  for i, index in enumerate(indexes):\n",
    "    table, column = index.split(\".\")\n",
    "    if i == 0:\n",
    "      cmd = f'echo \"CREATE INDEX idx_{table}_{column} ON {table}({column});\" > {filename}'\n",
    "    else:\n",
    "      cmd = f'echo \"CREATE INDEX idx_{table}_{column} ON {table}({column});\" >> {filename}'\n",
    "    cmds.append(cmd)\n",
    "\n",
    "  return cmds\n",
    "\n",
    "\n",
    "def build_drop_idx_cmd(indexes : list) -> str:\n",
    "  drop_cmd = \"DROP INDEX\"\n",
    "  for i, index in enumerate(indexes):\n",
    "    table, column = index.split(\".\")\n",
    "    if i != len(indexes)-1:\n",
    "      drop_cmd += f\" idx_{table}_{column},\"\n",
    "    else:\n",
    "      drop_cmd += f\" idx_{table}_{column};\"\n",
    "\n",
    "  return drop_cmd\n",
    "\n",
    "\n",
    "\n",
    "  \n",
    "  \n",
    "      \n"
   ]
  },
  {
   "cell_type": "code",
   "execution_count": 6,
   "metadata": {},
   "outputs": [
    {
     "name": "stderr",
     "output_type": "stream",
     "text": [
      "Not supported query type:  SET extra_float_digits = 3\n",
      "Not supported query type:  SET application_name = 'PostgreSQL JDBC Driver'\n",
      "Not supported query type:  SET SESSION CHARACTERISTICS AS TRANSACTION ISOLATION LEVEL SERIALIZABLE\n"
     ]
    },
    {
     "name": "stdout",
     "output_type": "stream",
     "text": [
      "Invalid Query:  SET extra_float_digits = 3\n",
      "Invalid Query:  SET application_name = 'PostgreSQL JDBC Driver'\n",
      "Invalid Query:  SET SESSION CHARACTERISTICS AS TRANSACTION ISOLATION LEVEL SERIALIZABLE\n",
      "\n",
      "Top columns:\n",
      "review.rating 297\n",
      "review.i_id 296\n",
      "trust.source_u_id 242\n",
      "review.u_id 189\n",
      "trust.target_u_id 178\n"
     ]
    },
    {
     "data": {
      "text/plain": [
       "['echo \"Generating sql commands for t1_epinions_1.sql\"',\n",
       " 'echo \"CREATE INDEX idx_review_rating ON review(rating);\" > t1_epinions_1.sql',\n",
       " 'echo \"CREATE INDEX idx_review_i_id ON review(i_id);\" >> t1_epinions_1.sql',\n",
       " 'echo \"CREATE INDEX idx_trust_source_u_id ON trust(source_u_id);\" >> t1_epinions_1.sql',\n",
       " 'echo \"CREATE INDEX idx_review_u_id ON review(u_id);\" >> t1_epinions_1.sql',\n",
       " 'echo \"CREATE INDEX idx_trust_target_u_id ON trust(target_u_id);\" >> t1_epinions_1.sql']"
      ]
     },
     "execution_count": 6,
     "metadata": {},
     "output_type": "execute_result"
    }
   ],
   "source": [
    "column_count = defaultdict(int)\n",
    "for index, item in df.iteritems():\n",
    "  parse_query(item, table_to_columns_epinions, column_count)\n",
    "\n",
    "top_5_columns = sorted(column_count.keys(), key=lambda x: column_count[x], reverse=True)[:5]\n",
    "\n",
    "print(\"\\nTop columns:\")\n",
    "for col in top_5_columns:\n",
    "  print(col, column_count[col])\n",
    "\n",
    "build_actions_str(top_5_columns, \"t1_epinions_1.sql\")"
   ]
  },
  {
   "cell_type": "code",
   "execution_count": 11,
   "metadata": {},
   "outputs": [
    {
     "data": {
      "text/plain": [
       "'DROP INDEX idx_review_rating, idx_review_i_id, idx_trust_source_u_id, idx_review_u_id, idx_trust_target_u_id;'"
      ]
     },
     "execution_count": 11,
     "metadata": {},
     "output_type": "execute_result"
    }
   ],
   "source": [
    "build_drop_idx_cmd(top_5_columns)"
   ]
  },
  {
   "cell_type": "code",
   "execution_count": null,
   "metadata": {},
   "outputs": [],
   "source": []
  }
 ],
 "metadata": {
  "kernelspec": {
   "display_name": "Python 3",
   "language": "python",
   "name": "python3"
  },
  "language_info": {
   "codemirror_mode": {
    "name": "ipython",
    "version": 3
   },
   "file_extension": ".py",
   "mimetype": "text/x-python",
   "name": "python",
   "nbconvert_exporter": "python",
   "pygments_lexer": "ipython3",
   "version": "3.7.11"
  }
 },
 "nbformat": 4,
 "nbformat_minor": 4
}
